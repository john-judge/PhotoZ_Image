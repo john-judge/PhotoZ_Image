{
 "cells": [
  {
   "cell_type": "code",
   "execution_count": 32,
   "id": "354dd4f3",
   "metadata": {},
   "outputs": [
    {
     "name": "stdout",
     "output_type": "stream",
     "text": [
      "Using matplotlib backend: Qt5Agg\n"
     ]
    }
   ],
   "source": [
    "import numpy as np\n",
    "from matplotlib import pyplot as plt\n",
    "%matplotlib\n",
    "\n",
    "# if you are plotting at the rig computer and want to plot the last debugging\n",
    "# run images, set this to True.\n",
    "plot_at_rig = True \n",
    "processed_is_CDS_subtracted = True # whether to halve the processed_img size\n",
    "prog = 7 # sizes from 0-smallest to 7-largest\n",
    "\n",
    "# to help explore possible settings\n",
    "reshape_factor = 1 # width is divided by this, height is multiplied by this"
   ]
  },
  {
   "cell_type": "code",
   "execution_count": 33,
   "id": "d690ae93",
   "metadata": {},
   "outputs": [],
   "source": [
    "path = \"C:\\\\Users\\\\RedShirtImaging\\\\Desktop\\\\PhotoZ_Jan2021\\\\PhotoZ_upgrades\\\\PhotoZ\\\\\"\n",
    "\n",
    "if not plot_at_rig:\n",
    "\n",
    "    path = \".\\\\data\\\\\"\n",
    "\n",
    "    \n",
    "    plot_all = True\n",
    "    date = \"6-29-21\"\n",
    "    path += date + \"\\\\prog\" + str(prog) + \"\\\\\"\n",
    "    \n",
    "# (internal) dimensions of the quadrants\n",
    "'''\n",
    "(= 7 - m_program in PhotoZ)\n",
    "\"DM2K_2048x512.cfg\", 7  \"200 Hz   2048x1024\"\n",
    "\"DM2K_2048x50.cfg\",  6  \"2000 Hz  2048x100\"\n",
    "\"DM2K_1024x160.cfg\", 5  \"1000 Hz  1024x320\"\n",
    "\"DM2K_1024x80.cfg\",  4  \"2000 Hz  1024x160\"\n",
    "\"DM2K_1024x80.cfg\",  3  \"2000 Hz  512x160\"\n",
    "\"DM2K_1024x40.cfg\",  2  \"4000 Hz  512x80\"\n",
    "\"DM2K_1024x30.cfg\",  1  \"5000 Hz  256x60\"\n",
    "\"DM2K_1024x20.cfg\"   0  \"7500 Hz  256x40\"\n",
    "'''\n",
    "dimensions = {\n",
    "    7 : {'height': 512,\n",
    "         'width': 2048 },\n",
    "    5 : {'height': 50,\n",
    "         'width': 2048 },\n",
    "    5 : {'height': 160,\n",
    "         'width': 1024 },\n",
    "    4 : {'height': 80,\n",
    "         'width': 1024 },\n",
    "    3 : {'height': 80,\n",
    "         'width': 1024},\n",
    "    2 : {'height': 40,\n",
    "         'width': 1024},\n",
    "    1 : {'height': 30,\n",
    "         'width': 1024},\n",
    "    0 : {'height': 20,\n",
    "         'width': 1024}\n",
    "}\n",
    "height = int(dimensions[prog]['height'] * reshape_factor)\n",
    "width = int(dimensions[prog]['width'] // reshape_factor)\n",
    "quadrantSize = height * width * 4"
   ]
  },
  {
   "cell_type": "code",
   "execution_count": 34,
   "id": "3a7fb526",
   "metadata": {},
   "outputs": [],
   "source": [
    "def load_image(image_version, quadrantSize, height, delim=' '):\n",
    "    height *= 2\n",
    "    final = np.genfromtxt(path + image_version + \".txt\", delimiter = delim) # always tab-delim\n",
    "    raw = np.genfromtxt(path + \"raw-\" + image_version + \".txt\", delimiter = delim)\n",
    "\n",
    "    raw_img = raw[:quadrantSize,1].reshape(height,-1)\n",
    "    final_size = quadrantSize\n",
    "    if processed_is_CDS_subtracted:\n",
    "        quadrantSize = quadrantSize // 2\n",
    "    final_img = final[:final_size,1].reshape(height,-1) # CDS-correct image is half the size. Reset rows were removed\n",
    "\n",
    "    print(\"Shaping final image to:\",final_size, quadrantSize // height)\n",
    "    print(raw_img.shape, final_img.shape)\n",
    "    return raw_img, final_img\n",
    "    \n",
    "def plot_image(raw_img, final_img, image_version, image_no):\n",
    "    fig = plt.figure()\n",
    "\n",
    "    ax1 = fig.add_subplot(2, 1, 1)\n",
    "    ax2 = fig.add_subplot(2, 1, 2)\n",
    "\n",
    "    ax1.set_title(\"Raw, RLI frame \" + str(image_no))\n",
    "    ax2.set_title(\"CDS subtracted then Deinterleave, RLI frame \" + str(image_no))\n",
    "\n",
    "    ax1.imshow(raw_img, aspect='auto', cmap='jet')\n",
    "    ax2.imshow(final_img[1:,:], aspect='auto', cmap='jet')\n",
    "\n",
    "    fig.subplots_adjust(hspace = 0.6)\n",
    "\n",
    "    plt.show()\n",
    "    # save to date-specific directory\n",
    "    plt.savefig(path + 'readout-RLI-' + image_version + \".png\")"
   ]
  },
  {
   "cell_type": "code",
   "execution_count": 35,
   "id": "9cca08ca",
   "metadata": {},
   "outputs": [],
   "source": [
    "def remapQuadrants(img):\n",
    "    # Place second half to the right of the first half\n",
    "    h,w = img.shape\n",
    "\n",
    "    q0 = img[:h//4,:]\n",
    "    q1 = img[h//4:h//2,:]\n",
    "    q2 = img[h//2:3*h//4,:]\n",
    "    q3 = img[3*h//4:,:]\n",
    "    img = np.zeros((h//2, w*2))\n",
    "    img[:h//4,:w] = q0\n",
    "    img[:h//4,w:] = q1\n",
    "    img[h//4:,:w] = q2\n",
    "    img[h//4:,w:] = q3\n",
    "    return img\n",
    "\n",
    "def normalizeQuadrants(img):\n",
    "    h,w = img.shape\n",
    "    img[:h//2,:w//2] = (img[:h//2,:w//2] - np.min(img[:h//2,:w//2])) / np.max(img[:h//2,:w//2])\n",
    "    img[:h//2,w//2:] = (img[:h//2,w//2:] - np.min(img[:h//2,w//2:])) / np.max(img[:h//2,w//2:])\n",
    "    img[h//2:,:w//2] = (img[h//2:,:w//2] - np.min(img[h//2:,:w//2])) /  np.max(img[h//2:,:w//2])\n",
    "    img[h//2:,w//2:] = (img[h//2:,w//2:] - np.min(img[h//2:,w//2:])) /  np.max(img[h//2:,w//2:])\n",
    "    return img\n",
    "\n",
    "def plot_remapped(raw_img, final_img, image_version, image_no):\n",
    "    raw_img_2 = remapQuadrants(raw_img)\n",
    "    final_img_2 = remapQuadrants(final_img)\n",
    "\n",
    "    fig = plt.figure()\n",
    "\n",
    "    ax1 = fig.add_subplot(2, 1, 1)\n",
    "    ax3 = fig.add_subplot(2, 1, 2)\n",
    "\n",
    "\n",
    "    ax1.set_title(\"Raw, Remapped, RLI frame \" + str(image_no))\n",
    "    ax3.set_title(\"Processed, Remapped, RLI frame \" + str(image_no))\n",
    "\n",
    "    ax1.imshow(raw_img_2, aspect='auto', cmap='jet')\n",
    "    ax3.imshow(final_img_2, aspect='auto', cmap='jet')\n",
    "\n",
    "    fig.subplots_adjust(hspace = 0.6)\n",
    "\n",
    "    plt.show()\n",
    "    # save to date-specific directory\n",
    "    plt.savefig(path + 'readout-RLI-remapped' + image_version + \".png\")\n"
   ]
  },
  {
   "cell_type": "code",
   "execution_count": 36,
   "id": "71af1b76",
   "metadata": {},
   "outputs": [
    {
     "name": "stdout",
     "output_type": "stream",
     "text": [
      "Shaping final image to: 4194304 2048\n",
      "(1024, 4096) (1024, 2048)\n",
      "Displayed frame 0\n"
     ]
    }
   ],
   "source": [
    "plot_all = False\n",
    "image_no_selected = 0\n",
    "\n",
    "for image_no in [0, 150, 350, 450]:\n",
    "    if plot_all or image_no_selected == image_no:\n",
    "        image_version = \"full-out\" + str(image_no)\n",
    "        raw_img, final_img = load_image(image_version, quadrantSize, height)\n",
    "        plot_image(raw_img, final_img, image_version, image_no)\n",
    "        plot_remapped(raw_img, final_img, image_version, image_no)\n",
    "        print(\"Displayed frame \" + str(image_no))"
   ]
  },
  {
   "cell_type": "code",
   "execution_count": null,
   "id": "7a4ad504",
   "metadata": {},
   "outputs": [],
   "source": []
  }
 ],
 "metadata": {
  "kernelspec": {
   "display_name": "Python 3",
   "language": "python",
   "name": "python3"
  },
  "language_info": {
   "codemirror_mode": {
    "name": "ipython",
    "version": 3
   },
   "file_extension": ".py",
   "mimetype": "text/x-python",
   "name": "python",
   "nbconvert_exporter": "python",
   "pygments_lexer": "ipython3",
   "version": "3.9.5"
  }
 },
 "nbformat": 4,
 "nbformat_minor": 5
}
