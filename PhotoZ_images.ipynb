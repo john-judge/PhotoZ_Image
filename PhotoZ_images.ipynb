{
 "cells": [
  {
   "cell_type": "code",
   "execution_count": 5,
   "id": "354dd4f3",
   "metadata": {},
   "outputs": [
    {
     "name": "stdout",
     "output_type": "stream",
     "text": [
      "Using matplotlib backend: Qt5Agg\n"
     ]
    }
   ],
   "source": [
    "import numpy as np\n",
    "from matplotlib import pyplot as plt\n",
    "%matplotlib\n",
    "\n",
    "#path = \"C:\\\\Users\\\\jjudge3\\\\Downloads\\\\\"\n",
    "path = \".\\\\data\\\\\"\n",
    "#path = \"C:\\\\Users\\\\RedShirtImaging\\\\Desktop\\\\PhotoZ_Jan2021\\\\PhotoZ_upgrades\\\\PhotoZ\\\\\"\n",
    "\n",
    "prog = 5\n",
    "plot_all = True\n",
    "date = \"6-25-21\"\n",
    "path += date + \"\\\\prog\" + str(prog) + \"\\\\\""
   ]
  },
  {
   "cell_type": "code",
   "execution_count": 6,
   "id": "3a7fb526",
   "metadata": {},
   "outputs": [],
   "source": [
    "# (internal) dimensions of the quadrants\n",
    "'''\n",
    "\"DM2K_2048x512.cfg\",\n",
    "\"DM2K_2048x50.cfg\",\n",
    "\"DM2K_1024x160.cfg\",\n",
    "\"DM2K_1024x80.cfg\",\n",
    "\"DM2K_1024x80.cfg\",\n",
    "\"DM2K_1024x40.cfg\",\n",
    "\"DM2K_1024x30.cfg\",\n",
    "\"DM2K_1024x20.cfg\"\n",
    "'''\n",
    "dimensions = {\n",
    "    7 : {'height': 512,\n",
    "         'width': 2048 },\n",
    "    5 : {'height': 80,\n",
    "         'width': 1024 },\n",
    "    4 : {'height': 40,\n",
    "         'width': 1024 },\n",
    "    0 : {'height': 20,\n",
    "         'width': 1024}\n",
    "}\n",
    "height = dimensions[prog]['height'] # height of the final image\n",
    "width = dimensions[prog]['width']\n",
    "quadrantSize = height * width * 4\n",
    "\n",
    "def load_image(image_version, quadrantSize, height, delim=' '):\n",
    "    height *= 2\n",
    "    final = np.genfromtxt(path + image_version + \".txt\", delimiter = delim) # always tab-delim\n",
    "    raw = np.genfromtxt(path + \"raw-\" + image_version + \".txt\", delimiter = delim)\n",
    "\n",
    "    raw_img = raw[:quadrantSize,1].reshape(height,-1)\n",
    "    final_img = final[:quadrantSize // 2,1].reshape(height,-1) # CDS-correct image is half the size. Reset rows were removed\n",
    "\n",
    "    print(\"Shaping final image to:\",height // 2, quadrantSize // height)\n",
    "    print(raw_img.shape, final_img.shape)\n",
    "    return raw_img, final_img\n",
    "    \n",
    "def plot_image(raw_img, final_img, image_version, image_no):\n",
    "    fig = plt.figure()\n",
    "\n",
    "    ax1 = fig.add_subplot(2, 1, 1)\n",
    "    ax2 = fig.add_subplot(2, 1, 2)\n",
    "\n",
    "    ax1.set_title(\"Raw, RLI frame \" + str(image_no))\n",
    "    ax2.set_title(\"CDS subtracted then Deinterleave, RLI frame \" + str(image_no))\n",
    "\n",
    "    ax1.imshow(raw_img, aspect='auto', cmap='jet')\n",
    "    ax2.imshow(final_img[1:,:], aspect='auto', cmap='jet')\n",
    "\n",
    "    fig.subplots_adjust(hspace = 0.6)\n",
    "\n",
    "    plt.show()\n",
    "    plt.savefig('readout-RLI-' + image_version + \".png\")"
   ]
  },
  {
   "cell_type": "code",
   "execution_count": 7,
   "id": "9cca08ca",
   "metadata": {},
   "outputs": [],
   "source": [
    "def remapQuadrants(img):\n",
    "    # Place second half to the right of the first half\n",
    "    h,w = img.shape\n",
    "\n",
    "    half1 = img[:h//2,:]\n",
    "    half2 = img[h//2:,:]\n",
    "    img = np.zeros((h//2, w*2))\n",
    "    img[:,:w] = half1\n",
    "    img[:,w:] = half2\n",
    "    return img\n",
    "\n",
    "def normalizeQuadrants(img):\n",
    "    h,w = img.shape\n",
    "    img[:h//2,:w//2] = (img[:h//2,:w//2] - np.min(img[:h//2,:w//2])) / np.max(img[:h//2,:w//2])\n",
    "    img[:h//2,w//2:] = (img[:h//2,w//2:] - np.min(img[:h//2,w//2:])) / np.max(img[:h//2,w//2:])\n",
    "    img[h//2:,:w//2] = (img[h//2:,:w//2] - np.min(img[h//2:,:w//2])) /  np.max(img[h//2:,:w//2])\n",
    "    img[h//2:,w//2:] = (img[h//2:,w//2:] - np.min(img[h//2:,w//2:])) /  np.max(img[h//2:,w//2:])\n",
    "    return img\n",
    "\n",
    "def plot_remapped(raw_img, final_img, image_version, image_no):\n",
    "    raw_img_2 = remapQuadrants(raw_img)\n",
    "    final_img_2 = remapQuadrants(final_img)\n",
    "\n",
    "    fig = plt.figure()\n",
    "\n",
    "    ax1 = fig.add_subplot(2, 1, 1)\n",
    "    ax3 = fig.add_subplot(2, 1, 2)\n",
    "\n",
    "\n",
    "    ax1.set_title(\"Raw, Remapped, RLI frame \" + str(image_no))\n",
    "    ax3.set_title(\"Processed, Remapped, RLI frame \" + str(image_no))\n",
    "\n",
    "    ax1.imshow(raw_img_2, aspect='auto')\n",
    "    ax3.imshow(final_img_2, aspect='auto')\n",
    "\n",
    "    fig.subplots_adjust(hspace = 0.6)\n",
    "\n",
    "    plt.show()\n",
    "    plt.savefig('readout-RLI-remapped' + image_version + \".png\")\n"
   ]
  },
  {
   "cell_type": "code",
   "execution_count": 8,
   "id": "71af1b76",
   "metadata": {},
   "outputs": [
    {
     "name": "stdout",
     "output_type": "stream",
     "text": [
      "Shaping final image to: 80 2048\n",
      "(160, 2048) (160, 1024)\n",
      "Displayed frame 0\n",
      "Shaping final image to: 80 2048\n",
      "(160, 2048) (160, 1024)\n",
      "Displayed frame 150\n",
      "Shaping final image to: 80 2048\n",
      "(160, 2048) (160, 1024)\n",
      "Displayed frame 350\n",
      "Shaping final image to: 80 2048\n",
      "(160, 2048) (160, 1024)\n",
      "Displayed frame 450\n"
     ]
    }
   ],
   "source": [
    "\n",
    "plot_all = True\n",
    "image_no_selected = 350\n",
    "\n",
    "for image_no in [0, 150, 350, 450]:\n",
    "    if plot_all or image_no_selected == image_no:\n",
    "        image_version = \"full-out\" + str(image_no)\n",
    "        raw_img, final_img = load_image(image_version, quadrantSize, height)\n",
    "        plot_image(raw_img, final_img, image_version, image_no)\n",
    "        plot_remapped(raw_img, final_img, image_version, image_no)\n",
    "        print(\"Displayed frame \" + str(image_no))"
   ]
  }
 ],
 "metadata": {
  "kernelspec": {
   "display_name": "Python 3",
   "language": "python",
   "name": "python3"
  },
  "language_info": {
   "codemirror_mode": {
    "name": "ipython",
    "version": 3
   },
   "file_extension": ".py",
   "mimetype": "text/x-python",
   "name": "python",
   "nbconvert_exporter": "python",
   "pygments_lexer": "ipython3",
   "version": "3.9.4"
  }
 },
 "nbformat": 4,
 "nbformat_minor": 5
}
